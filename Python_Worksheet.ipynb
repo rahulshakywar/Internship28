{
 "cells": [
  {
   "cell_type": "code",
   "execution_count": 3,
   "id": "fa45a228",
   "metadata": {},
   "outputs": [
    {
     "name": "stdout",
     "output_type": "stream",
     "text": [
      "Enter a number: 4\n",
      "The factorial of 4 is 24\n"
     ]
    }
   ],
   "source": [
    "# 11)\tWrite a python program to find the factorial of a number.\n",
    "\n",
    "# Take input from the user\n",
    "num = int(input(\"Enter a number: \"))\n",
    "\n",
    "factorial = 1\n",
    "\n",
    "# Check if the number is positive, negative or zero\n",
    "if num < 0:\n",
    "    print(\"Sorry, factorial does not exist for negative numbers\")\n",
    "elif num == 0:\n",
    "    print(\"The factorial of 0 is 1\")\n",
    "else:\n",
    "    \n",
    "# Loop to find the factorial of number\n",
    "    for i in range(1,num + 1):\n",
    "        factorial = factorial*i\n",
    "        print(\"The factorial of\",num,\"is\",factorial)"
   ]
  },
  {
   "cell_type": "code",
   "execution_count": 6,
   "id": "936740a7",
   "metadata": {},
   "outputs": [
    {
     "name": "stdout",
     "output_type": "stream",
     "text": [
      "Enter any number:-1\n",
      "Please enter Positive number only \n"
     ]
    }
   ],
   "source": [
    "# 12)\tWrite a python program to find whether a number is prime or composite.\n",
    "\n",
    "n= int(input(\"Enter any number:\"))\n",
    "if(n ==0 or n == 1):\n",
    "    printf(n,\"Number is neither PRIME nor COMPOSITE NUMBER\")\n",
    "elif n>1 :\n",
    "    for i in range(2,n):\n",
    "        if(n%i == 0):\n",
    "            print(n,\"is not PRIME but COMPOSITE NUMBER\")\n",
    "            break\n",
    "    else:\n",
    "        print(n,\"Number is PRIME but not COMPOSITE NUMBER\")\n",
    "else :\n",
    "    print(\"Please enter Positive number only \")"
   ]
  },
  {
   "cell_type": "code",
   "execution_count": 8,
   "id": "f86a68ab",
   "metadata": {},
   "outputs": [
    {
     "name": "stdout",
     "output_type": "stream",
     "text": [
      "Please enter your own Text : mam\n",
      "Reverse Order :   mam\n",
      "This is a Palindrome String\n"
     ]
    }
   ],
   "source": [
    "# 13)\tWrite a python program to check whether a given string is palindrome or not.\n",
    "\n",
    "string = input(\"Please enter your own Text : \")\n",
    "str1 = \"\"\n",
    "\n",
    "for i in string:\n",
    "    str1 = i + str1  \n",
    "print(\"Reverse Order :  \", str1)\n",
    "\n",
    "if(string == str1):\n",
    "   print(\"This is a Palindrome String\")\n",
    "else:\n",
    "   print(\"This is Not\")"
   ]
  },
  {
   "cell_type": "code",
   "execution_count": 10,
   "id": "736a5d36",
   "metadata": {},
   "outputs": [
    {
     "name": "stdout",
     "output_type": "stream",
     "text": [
      "Hypotenuse = 5.0\n",
      "Adjacent = 4.0\n",
      "Opposite = 3.0\n",
      "You know the answer!\n"
     ]
    }
   ],
   "source": [
    "# 14)\tWrite a python program to get the third side of right-angled triangle from two given sides.\n",
    "\n",
    "# Declare a function to find the missing angle.\n",
    "def pythagoras(opposite_side,adjacent_side,hypotenuse):\n",
    "        if opposite_side == str(\"x\"):\n",
    "            return (\"Opposite = \" + str(((hypotenuse**2) - (adjacent_side**2))**0.5))\n",
    "        elif adjacent_side == str(\"x\"):\n",
    "            return (\"Adjacent = \" + str(((hypotenuse**2) - (opposite_side**2))**0.5))\n",
    "        elif hypotenuse == str(\"x\"):\n",
    "            return (\"Hypotenuse = \" + str(((opposite_side**2) + (adjacent_side**2))**0.5))\n",
    "        else:\n",
    "            return \"You know the answer!\"\n",
    "        \n",
    "# Call the function inside the print method    \n",
    "print(pythagoras(3,4,'x'))\n",
    "print(pythagoras(3,'x',5))\n",
    "print(pythagoras('x',4,5))\n",
    "print(pythagoras(3,4,5))"
   ]
  },
  {
   "cell_type": "code",
   "execution_count": 16,
   "id": "be040ca8",
   "metadata": {},
   "outputs": [
    {
     "name": "stdout",
     "output_type": "stream",
     "text": [
      "Enter the string: tight\n",
      "Please enter the char to find frequency of the character\n",
      "t\n",
      "The frequency of the  t in the string is:  2\n"
     ]
    }
   ],
   "source": [
    "# 15)\tWrite a python program to print the frequency of each of the characters present in a given string.\n",
    "\n",
    "string=input(\"Enter the string: \")\n",
    "char=input(\"Please enter the char to find frequency of the character\\n\")\n",
    "count=0\n",
    "for i in range(len(string)):\n",
    "    if(string[i]==char):\n",
    "        count=count+1\n",
    "print(\"The frequency of the \",char,\"in the string is: \",count)"
   ]
  },
  {
   "cell_type": "code",
   "execution_count": null,
   "id": "7eb98c85",
   "metadata": {},
   "outputs": [],
   "source": []
  }
 ],
 "metadata": {
  "kernelspec": {
   "display_name": "Python 3 (ipykernel)",
   "language": "python",
   "name": "python3"
  },
  "language_info": {
   "codemirror_mode": {
    "name": "ipython",
    "version": 3
   },
   "file_extension": ".py",
   "mimetype": "text/x-python",
   "name": "python",
   "nbconvert_exporter": "python",
   "pygments_lexer": "ipython3",
   "version": "3.9.12"
  }
 },
 "nbformat": 4,
 "nbformat_minor": 5
}
