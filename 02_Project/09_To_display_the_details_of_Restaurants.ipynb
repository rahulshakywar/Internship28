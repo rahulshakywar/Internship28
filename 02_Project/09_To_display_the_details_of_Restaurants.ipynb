{
 "cells": [
  {
   "cell_type": "code",
   "execution_count": 1,
   "id": "c68a53c2",
   "metadata": {},
   "outputs": [],
   "source": [
    "from bs4 import BeautifulSoup\n",
    "import requests"
   ]
  },
  {
   "cell_type": "code",
   "execution_count": 11,
   "id": "9b4345f8",
   "metadata": {},
   "outputs": [],
   "source": [
    "# Write a python program to scrape mentioned details from dineout.co.in:\n",
    "# i)   Restaurant name\n",
    "# ii)  Cuisine\n",
    "# iii) Location\n",
    "# iv)  Ratings\n",
    "# v)   ImageURL\n",
    "\n",
    "page = requests.get('https://www.dineout.co.in/delhi-restaurants/buffet-special') # Send request to webserver to get the source code\n",
    "\n",
    "soup = BeautifulSoup(page.content) # To Assign the page content to the variable soup\n",
    "soup\n",
    "\n",
    "restaurant_name = []\n",
    "rating = []\n",
    "\n",
    "# Assigning restaurant name to a variable\n",
    "#for title in soup.find_all('a', class_='restnt-name ellipsis'):\n",
    "    #restaurant_name.append(title.text)\n",
    "#restaurant_name\n",
    "\n",
    "# Assigning rating to a variable\n",
    "for title in soup.find_all('a', class_='restnt-loc ellipsis'):\n",
    "    #rating.append(title.get('href'))\n",
    "    title\n",
    "#rating\n",
    "\n",
    "\n",
    "import pandas as pd\n",
    "data = pd.DataFrame()\n",
    "data['Restaurant Name'] = restaurant_name\n",
    "#data['Rating'] = rating\n",
    "#data['Published Date'] = published_date\n",
    "#data['Paper URL'] = paper_url\n",
    "\n",
    "#data"
   ]
  },
  {
   "cell_type": "code",
   "execution_count": null,
   "id": "6887c87e",
   "metadata": {},
   "outputs": [],
   "source": []
  }
 ],
 "metadata": {
  "kernelspec": {
   "display_name": "Python 3 (ipykernel)",
   "language": "python",
   "name": "python3"
  },
  "language_info": {
   "codemirror_mode": {
    "name": "ipython",
    "version": 3
   },
   "file_extension": ".py",
   "mimetype": "text/x-python",
   "name": "python",
   "nbconvert_exporter": "python",
   "pygments_lexer": "ipython3",
   "version": "3.9.12"
  }
 },
 "nbformat": 4,
 "nbformat_minor": 5
}
