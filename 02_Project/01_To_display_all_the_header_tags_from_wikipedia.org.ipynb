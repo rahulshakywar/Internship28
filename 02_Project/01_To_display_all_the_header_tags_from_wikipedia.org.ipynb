{
 "cells": [
  {
   "cell_type": "code",
   "execution_count": 1,
   "id": "aa3eed4c",
   "metadata": {},
   "outputs": [],
   "source": [
    "from bs4 import BeautifulSoup\n",
    "import requests"
   ]
  },
  {
   "cell_type": "code",
   "execution_count": 2,
   "id": "8b61bb65",
   "metadata": {},
   "outputs": [],
   "source": [
    "# Write a python program to display all the header tags from wikipedia.org.\n",
    "\n",
    "page = requests.get('https://en.wikipedia.org/wiki/Main_Page') # Send request to webserver to get the source code\n",
    "\n",
    "soup = BeautifulSoup(page.content) # To Assign the page content to the variable soup"
   ]
  },
  {
   "cell_type": "code",
   "execution_count": 8,
   "id": "31bf00ba",
   "metadata": {},
   "outputs": [
    {
     "name": "stdout",
     "output_type": "stream",
     "text": [
      "h1 -> Main Page\n",
      "h1 -> Welcome to Wikipedia\n",
      "h2 -> From today's featured article\n",
      "h2 -> Did you know ...\n",
      "h2 -> In the news\n",
      "h2 -> On this day\n",
      "h2 -> Today's featured picture\n",
      "h2 -> Other areas of Wikipedia\n",
      "h2 -> Wikipedia's sister projects\n",
      "h2 -> Wikipedia languages\n",
      "h2 -> Navigation menu\n",
      "h3 -> Search\n"
     ]
    }
   ],
   "source": [
    "header_tags = [\"h1\", \"h2\", \"h3\", \"h4\", \"h5\", \"h6\"] # assign all type of header tags to a variable as list\n",
    "for tags in soup.find_all(header_tags):            # pass that list in the method to find the function\n",
    "    print(tags.name + ' -> ' + tags.text.strip())"
   ]
  },
  {
   "cell_type": "code",
   "execution_count": null,
   "id": "f551a9a2",
   "metadata": {},
   "outputs": [],
   "source": []
  }
 ],
 "metadata": {
  "kernelspec": {
   "display_name": "Python 3 (ipykernel)",
   "language": "python",
   "name": "python3"
  },
  "language_info": {
   "codemirror_mode": {
    "name": "ipython",
    "version": 3
   },
   "file_extension": ".py",
   "mimetype": "text/x-python",
   "name": "python",
   "nbconvert_exporter": "python",
   "pygments_lexer": "ipython3",
   "version": "3.9.12"
  }
 },
 "nbformat": 4,
 "nbformat_minor": 5
}
